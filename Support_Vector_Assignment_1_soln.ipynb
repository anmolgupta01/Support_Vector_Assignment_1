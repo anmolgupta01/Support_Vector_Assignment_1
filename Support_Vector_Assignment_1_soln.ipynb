{
 "cells": [
  {
   "cell_type": "markdown",
   "id": "b03b9374",
   "metadata": {},
   "source": [
    "# Q1. What is the mathematical formula for a linear SVM?"
   ]
  },
  {
   "cell_type": "markdown",
   "id": "985697b4",
   "metadata": {},
   "source": [
    "The mathematical formula for a linear Support Vector Machine (SVM) can be represented as follows:\n",
    "\n",
    "Given a set of training data with features x_i and labels y_i (where y_i is either +1 or -1), and a weight vector w and a bias term b, the decision function for classifying a new data point x can be expressed as:\n",
    "\n",
    "f(x) = w * x + b\n",
    "\n",
    "In this formula:\n",
    "\n",
    "- \"f(x)\" is the decision function that yields a real-valued number.\n",
    "- \"w\" is the weight vector that determines the orientation of the separating hyperplane.\n",
    "- \"x\" is the feature vector of the input data point you want to classify.\n",
    "- \"b\" is the bias term, also known as the intercept, which shifts the hyperplane away from the origin in feature space.\n",
    "\n",
    "The predicted class for the input data point x is determined by the sign of f(x):\n",
    "\n",
    "- If f(x) > 0, the input is classified as the positive class (y = +1).\n",
    "- If f(x) < 0, the input is classified as the negative class (y = -1).\n",
    "\n",
    "The goal of training a linear SVM is to find the weight vector \"w\" and bias term \"b\" that maximize the margin while correctly classifying the training data points. This is done by solving the optimization problem with the objective function I described in my previous response. The values of \"w\" and \"b\" that solve this optimization problem determine the optimal hyperplane for separating the classes in a way that maximizes the margin and minimizes classification errors."
   ]
  },
  {
   "cell_type": "markdown",
   "id": "0976d69c",
   "metadata": {},
   "source": [
    "# Q2. What is the objective function of a linear SVM?"
   ]
  },
  {
   "cell_type": "markdown",
   "id": "7e8a18c6",
   "metadata": {},
   "source": [
    "The objective function of a linear Support Vector Machine (SVM) is to find the hyperplane that maximizes the margin between two classes in a binary classification problem. The hyperplane is used to separate the data points into two classes, and the margin is the distance between the hyperplane and the nearest data points from each class. The objective function can be formulated as follows:\n",
    "\n",
    "Given a set of training data with features x_i and labels y_i (where y_i is either +1 or -1), and a weight vector w and a bias term b, the objective function of a linear SVM is to find w and b that minimize the following expression:\n",
    "\n",
    "1/2 * ||w||^2 + C * Σ[ max(0, 1 - y_i * (w * x_i + b)) ]\n",
    "\n",
    "Here, the first term 1/2 * ||w||^2 represents the regularization term, and it aims to maximize the margin by minimizing the magnitude of the weight vector w. The second term represents the hinge loss, which enforces that the data points are correctly classified with a margin of at least 1. The parameter C is the regularization parameter, which controls the trade-off between maximizing the margin and minimizing the classification error. A smaller C will prioritize a larger margin at the expense of potential classification errors, while a larger C will allow for a smaller margin but fewer classification errors.\n",
    "\n",
    "In essence, the linear SVM aims to find the hyperplane that not only separates the data points but also maximizes the margin while taking into account classification errors (penalized by the hinge loss) based on the value of C."
   ]
  },
  {
   "cell_type": "markdown",
   "id": "79612363",
   "metadata": {},
   "source": [
    "# Q3. What is the kernel trick in SVM?"
   ]
  },
  {
   "cell_type": "markdown",
   "id": "c4b58697",
   "metadata": {},
   "source": [
    "The kernel trick is a fundamental concept in Support Vector Machines (SVM) that allows SVMs to handle non-linearly separable data by implicitly mapping the data into a higher-dimensional feature space. It enables SVMs to find a separating hyperplane in this transformed feature space, making non-linear classification tasks possible.\n",
    "\n",
    "In a linear SVM, we find a hyperplane that separates data in the original feature space. However, many real-world datasets are not linearly separable, which means a linear hyperplane cannot effectively separate the classes. The kernel trick addresses this limitation by introducing a mathematical function called a \"kernel function.\" This function computes the dot product between the transformed feature vectors in the higher-dimensional space, without explicitly computing the transformation. The dot product in this higher-dimensional space can be efficiently computed even if the space is very high-dimensional or infinite-dimensional.\n",
    "\n",
    "The most commonly used kernel functions include:\n",
    "\n",
    "1. Linear Kernel (no transformation): K(x, x') = x * x'\n",
    "2. Polynomial Kernel: K(x, x') = (gamma * (x * x') + coef0)^degree\n",
    "3. Radial Basis Function (RBF) Kernel: K(x, x') = exp(-gamma * ||x - x'||^2)\n",
    "4. Sigmoid Kernel: K(x, x') = tanh(gamma * (x * x') + coef0)\n",
    "\n",
    "Here, \"x\" and \"x'\" are the input feature vectors, and the kernel function \"K\" computes the dot product in the higher-dimensional space.\n",
    "\n",
    "The choice of the kernel function and its hyperparameters (e.g., gamma, degree, coef0) depends on the specific problem and the characteristics of the data. Different kernel functions can be used to capture different types of non-linear relationships within the data.\n",
    "\n",
    "The kernel trick allows SVMs to learn complex decision boundaries in the transformed feature space, which correspond to non-linear decision boundaries in the original feature space. This makes SVMs a powerful tool for handling non-linear classification problems and has applications in various fields, including image recognition, natural language processing, and bioinformatics."
   ]
  },
  {
   "cell_type": "markdown",
   "id": "b5eae8cd",
   "metadata": {},
   "source": [
    "# Q4. What is the role of support vectors in SVM Explain with example "
   ]
  },
  {
   "cell_type": "markdown",
   "id": "813a4212",
   "metadata": {},
   "source": [
    "Support vectors are data points from the training dataset that play a crucial role in Support Vector Machines (SVM). They are the data points that are closest to the decision boundary (hyperplane) and have a direct impact on defining the location and orientation of the decision boundary. These support vectors are used to calculate the margin, which is the distance between the hyperplane and the nearest data points.\n",
    "\n",
    "Here's the role of support vectors in SVM with an example:\n",
    "\n",
    "Suppose you have a two-class classification problem with two features (2D data), and you want to use a linear SVM to separate the two classes. The decision boundary is a line in this case. You have a training dataset consisting of data points from both classes.\n",
    "\n",
    "1. Separating the Classes:\n",
    "   The SVM algorithm aims to find the hyperplane that best separates the two classes. This hyperplane is chosen such that it maximizes the margin between the classes. The support vectors are the data points that are closest to this hyperplane. These support vectors are the key elements in determining the position and orientation of the hyperplane.\n",
    "\n",
    "2. Defining the Margin:\n",
    "   The margin of the SVM is the distance between the hyperplane and the nearest support vector. The SVM algorithm aims to maximize this margin. The margin provides a measure of confidence in the classification. A wider margin indicates better generalization to unseen data.\n",
    "\n",
    "3. Impact on the Decision Boundary:\n",
    "   Support vectors directly influence the decision boundary, as the margin is determined by the distance from the decision boundary to these vectors. If you remove or change the position of a support vector, it can lead to a different decision boundary.\n",
    "\n",
    "Example:\n",
    "Let's consider a simple example. You have two classes, \"Red\" and \"Blue,\" in a 2D space, and you want to classify them using a linear SVM. The decision boundary is a straight line.\n",
    "\n",
    "- You have a total of 10 data points from the two classes.\n",
    "- Among these 10 data points, only three of them are support vectors, say two \"Red\" and one \"Blue\" data point.\n",
    "\n",
    "The SVM will find the optimal hyperplane that maximizes the margin while considering these support vectors. The position of this hyperplane depends on the location of these three support vectors, and it is designed to provide the widest possible margin between the classes while ensuring the support vectors are correctly classified.\n",
    "\n",
    "In this example, the support vectors play a critical role in determining the decision boundary, as their positions have a direct impact on the classification outcome and the margin of the SVM. These support vectors are the \"supporting pillars\" of the classifier, as they define the structure and position of the decision boundary."
   ]
  },
  {
   "cell_type": "markdown",
   "id": "886e7f3b",
   "metadata": {},
   "source": [
    "# Q5. Illustrate with examples and graphs of Hyperplane, Marginal plane, Soft margin and Hard margin in SVM?"
   ]
  },
  {
   "cell_type": "markdown",
   "id": "ac78a04f",
   "metadata": {},
   "source": [
    "\n",
    "\n",
    "1. **Hyperplane**:\n",
    "   - A hyperplane is a separating boundary in the feature space that distinguishes between two classes in a binary classification problem.\n",
    "   - In a 2D feature space, a hyperplane is a straight line. In a 3D feature space, it's a plane.\n",
    "   - In higher-dimensional spaces, a hyperplane is a hyperplane.\n",
    "\n",
    "   Example:\n",
    "   In a 2D feature space, consider a simple classification problem with two classes, \"Red\" and \"Blue.\" A hyperplane could be a straight line that separates these two classes, as shown in the following graph:\n",
    "\n",
    "2. **Marginal Plane**:\n",
    "   - The marginal plane is the hyperplane that maximizes the margin between the classes in a hard-margin SVM.\n",
    "   - It is located equidistant from the nearest data points (support vectors) of each class.\n",
    "\n",
    "   Example:\n",
    "   In a 2D feature space with a hard-margin SVM, the marginal plane is the hyperplane that provides the maximum margin while correctly classifying all support vectors, as shown in the following graph:\n",
    "\n",
    "3. **Soft Margin**:\n",
    "   - In real-world datasets, it's common for classes to have some overlapping points or outliers. In such cases, a hard-margin SVM may not be feasible.\n",
    "   - A soft-margin SVM introduces the notion of \"slack variables\" to allow some classification errors (misclassified points) within a certain tolerance.\n",
    "   - The margin is maximized while considering a trade-off between a wider margin and the number of classification errors.\n",
    "\n",
    "   Example:\n",
    "   In a 2D feature space with a soft-margin SVM, the margin is maximized, but some points (represented as \"X\") are allowed to be inside the margin, as shown in the following graph:\n",
    "\n",
    "\n",
    "4. **Hard Margin**:\n",
    "   - A hard-margin SVM is a type of SVM that doesn't allow any classification errors. It only works when the data is linearly separable without any outliers.\n",
    "   - It aims to find a hyperplane that perfectly separates the classes with a margin.\n",
    "\n",
    "   Example:\n",
    "   In a 2D feature space with a hard-margin SVM, the margin is maximized, and there are no points inside the margin. The hyperplane strictly separates the classes, as shown in the following graph:\n"
   ]
  },
  {
   "cell_type": "code",
   "execution_count": 1,
   "id": "825b611d",
   "metadata": {},
   "outputs": [
    {
     "data": {
      "image/png": "[encoded data removed]",
      "text/plain": [
       "<Figure size 640x480 with 1 Axes>"
      ]
     },
     "metadata": {},
     "output_type": "display_data"
    },
    {
     "data": {
      "image/png": "[encoded data removed]",
      "text/plain": [
       "<Figure size 640x480 with 1 Axes>"
      ]
     },
     "metadata": {},
     "output_type": "display_data"
    }
   ],
   "source": [
    "import numpy as np\n",
    "import matplotlib.pyplot as plt\n",
    "from sklearn import datasets\n",
    "from sklearn.svm import SVC\n",
    "\n",
    "# Generate synthetic data\n",
    "X, y = datasets.make_classification(n_samples=100, n_features=2, n_informative=2, n_redundant=0, random_state=1)\n",
    "\n",
    "# Create a hard-margin SVM classifier\n",
    "hard_margin_classifier = SVC(kernel='linear', C=1e6)  # C is a very large value for a hard margin\n",
    "\n",
    "# Create a soft-margin SVM classifier\n",
    "soft_margin_classifier = SVC(kernel='linear', C=1.0)  # C is smaller for a soft margin\n",
    "\n",
    "# Fit the classifiers\n",
    "hard_margin_classifier.fit(X, y)\n",
    "soft_margin_classifier.fit(X, y)\n",
    "\n",
    "# Create a meshgrid for visualization\n",
    "x_min, x_max = X[:, 0].min() - 1, X[:, 0].max() + 1\n",
    "y_min, y_max = X[:, 1].min() - 1, X[:, 1].max() + 1\n",
    "xx, yy = np.meshgrid(np.arange(x_min, x_max, 0.02), np.arange(y_min, y_max, 0.02))\n",
    "\n",
    "# Predict and plot decision boundary for hard-margin SVM\n",
    "Z_hard = hard_margin_classifier.predict(np.c_[xx.ravel(), yy.ravel()])\n",
    "Z_hard = Z_hard.reshape(xx.shape)\n",
    "plt.contourf(xx, yy, Z_hard, alpha=0.5)\n",
    "plt.scatter(X[:, 0], X[:, 1], c=y, edgecolors='k')\n",
    "plt.title('Hard Margin SVM')\n",
    "plt.show()\n",
    "\n",
    "# Predict and plot decision boundary for soft-margin SVM\n",
    "Z_soft = soft_margin_classifier.predict(np.c_[xx.ravel(), yy.ravel()])\n",
    "Z_soft = Z_soft.reshape(xx.shape)\n",
    "plt.contourf(xx, yy, Z_soft, alpha=0.5)\n",
    "plt.scatter(X[:, 0], X[:, 1], c=y, edgecolors='k')\n",
    "plt.title('Soft Margin SVM')\n",
    "plt.show()\n"
   ]
  },
  {
   "cell_type": "markdown",
   "id": "09cce5c1",
   "metadata": {},
   "source": [
    "# Q6. SVM Implementation through Iris dataset.\n",
    "\n",
    "- Load the iris dataset from the scikit-learn library and split it into a training set and a testing set\n",
    "\n",
    "- Train a linear SVM classifier on the training set and predict the labels for the testing set\n",
    "\n",
    "- Compute the accuracy of the model on the testing set\n",
    "\n",
    "- Plot the decision boundaries of the trained model using two of the features\n",
    "\n",
    "- Try different values of the regularisation parameter C and see how it affects the performance of the model."
   ]
  },
  {
   "cell_type": "code",
   "execution_count": 57,
   "id": "cf4a7b53",
   "metadata": {},
   "outputs": [],
   "source": [
    "#Load the iris dataset from the scikit-learn library and split it into a training set and a testing set\n",
    "import numpy as np\n",
    "import pandas as pd\n",
    "import seaborn as sns \n",
    "import matplotlib.pyplot as plt\n",
    "import warnings\n",
    "warnings.filterwarnings('ignore')\n",
    "from sklearn.metrics import classification_report,confusion_matrix,accuracy_score\n",
    "from sklearn import datasets"
   ]
  },
  {
   "cell_type": "code",
   "execution_count": 58,
   "id": "ac4c9a66",
   "metadata": {},
   "outputs": [],
   "source": [
    "df = sns.load_dataset('iris')"
   ]
  },
  {
   "cell_type": "code",
   "execution_count": 59,
   "id": "c5047db0",
   "metadata": {},
   "outputs": [
    {
     "data": {
      "text/html": [
       "<div>\n",
       "<style scoped>\n",
       "    .dataframe tbody tr th:only-of-type {\n",
       "        vertical-align: middle;\n",
       "    }\n",
       "\n",
       "    .dataframe tbody tr th {\n",
       "        vertical-align: top;\n",
       "    }\n",
       "\n",
       "    .dataframe thead th {\n",
       "        text-align: right;\n",
       "    }\n",
       "</style>\n",
       "<table border=\"1\" class=\"dataframe\">\n",
       "  <thead>\n",
       "    <tr style=\"text-align: right;\">\n",
       "      <th></th>\n",
       "      <th>sepal_length</th>\n",
       "      <th>sepal_width</th>\n",
       "      <th>petal_length</th>\n",
       "      <th>petal_width</th>\n",
       "      <th>species</th>\n",
       "    </tr>\n",
       "  </thead>\n",
       "  <tbody>\n",
       "    <tr>\n",
       "      <th>0</th>\n",
       "      <td>5.1</td>\n",
       "      <td>3.5</td>\n",
       "      <td>1.4</td>\n",
       "      <td>0.2</td>\n",
       "      <td>setosa</td>\n",
       "    </tr>\n",
       "    <tr>\n",
       "      <th>1</th>\n",
       "      <td>4.9</td>\n",
       "      <td>3.0</td>\n",
       "      <td>1.4</td>\n",
       "      <td>0.2</td>\n",
       "      <td>setosa</td>\n",
       "    </tr>\n",
       "    <tr>\n",
       "      <th>2</th>\n",
       "      <td>4.7</td>\n",
       "      <td>3.2</td>\n",
       "      <td>1.3</td>\n",
       "      <td>0.2</td>\n",
       "      <td>setosa</td>\n",
       "    </tr>\n",
       "    <tr>\n",
       "      <th>3</th>\n",
       "      <td>4.6</td>\n",
       "      <td>3.1</td>\n",
       "      <td>1.5</td>\n",
       "      <td>0.2</td>\n",
       "      <td>setosa</td>\n",
       "    </tr>\n",
       "    <tr>\n",
       "      <th>4</th>\n",
       "      <td>5.0</td>\n",
       "      <td>3.6</td>\n",
       "      <td>1.4</td>\n",
       "      <td>0.2</td>\n",
       "      <td>setosa</td>\n",
       "    </tr>\n",
       "    <tr>\n",
       "      <th>...</th>\n",
       "      <td>...</td>\n",
       "      <td>...</td>\n",
       "      <td>...</td>\n",
       "      <td>...</td>\n",
       "      <td>...</td>\n",
       "    </tr>\n",
       "    <tr>\n",
       "      <th>145</th>\n",
       "      <td>6.7</td>\n",
       "      <td>3.0</td>\n",
       "      <td>5.2</td>\n",
       "      <td>2.3</td>\n",
       "      <td>virginica</td>\n",
       "    </tr>\n",
       "    <tr>\n",
       "      <th>146</th>\n",
       "      <td>6.3</td>\n",
       "      <td>2.5</td>\n",
       "      <td>5.0</td>\n",
       "      <td>1.9</td>\n",
       "      <td>virginica</td>\n",
       "    </tr>\n",
       "    <tr>\n",
       "      <th>147</th>\n",
       "      <td>6.5</td>\n",
       "      <td>3.0</td>\n",
       "      <td>5.2</td>\n",
       "      <td>2.0</td>\n",
       "      <td>virginica</td>\n",
       "    </tr>\n",
       "    <tr>\n",
       "      <th>148</th>\n",
       "      <td>6.2</td>\n",
       "      <td>3.4</td>\n",
       "      <td>5.4</td>\n",
       "      <td>2.3</td>\n",
       "      <td>virginica</td>\n",
       "    </tr>\n",
       "    <tr>\n",
       "      <th>149</th>\n",
       "      <td>5.9</td>\n",
       "      <td>3.0</td>\n",
       "      <td>5.1</td>\n",
       "      <td>1.8</td>\n",
       "      <td>virginica</td>\n",
       "    </tr>\n",
       "  </tbody>\n",
       "</table>\n",
       "<p>150 rows × 5 columns</p>\n",
       "</div>"
      ],
      "text/plain": [
       "     sepal_length  sepal_width  petal_length  petal_width    species\n",
       "0             5.1          3.5           1.4          0.2     setosa\n",
       "1             4.9          3.0           1.4          0.2     setosa\n",
       "2             4.7          3.2           1.3          0.2     setosa\n",
       "3             4.6          3.1           1.5          0.2     setosa\n",
       "4             5.0          3.6           1.4          0.2     setosa\n",
       "..            ...          ...           ...          ...        ...\n",
       "145           6.7          3.0           5.2          2.3  virginica\n",
       "146           6.3          2.5           5.0          1.9  virginica\n",
       "147           6.5          3.0           5.2          2.0  virginica\n",
       "148           6.2          3.4           5.4          2.3  virginica\n",
       "149           5.9          3.0           5.1          1.8  virginica\n",
       "\n",
       "[150 rows x 5 columns]"
      ]
     },
     "execution_count": 59,
     "metadata": {},
     "output_type": "execute_result"
    }
   ],
   "source": [
    "df"
   ]
  },
  {
   "cell_type": "code",
   "execution_count": 70,
   "id": "a9f5acbb",
   "metadata": {},
   "outputs": [
    {
     "data": {
      "text/plain": [
       "Index(['sepal_length', 'sepal_width', 'petal_length', 'petal_width',\n",
       "       'species'],\n",
       "      dtype='object')"
      ]
     },
     "execution_count": 70,
     "metadata": {},
     "output_type": "execute_result"
    }
   ],
   "source": [
    "df.columns"
   ]
  },
  {
   "cell_type": "code",
   "execution_count": 60,
   "id": "4d5acafc",
   "metadata": {},
   "outputs": [],
   "source": [
    "X = df.drop(['species'],axis=1)\n",
    "y = df['species']"
   ]
  },
  {
   "cell_type": "code",
   "execution_count": 61,
   "id": "8e2a76b4",
   "metadata": {},
   "outputs": [],
   "source": [
    "from sklearn.model_selection import train_test_split\n",
    "X_train,X_test,y_train,y_test = train_test_split(X,y,test_size=0.20,random_state=10);"
   ]
  },
  {
   "cell_type": "code",
   "execution_count": 62,
   "id": "64992750",
   "metadata": {},
   "outputs": [
    {
     "data": {
      "text/html": [
       "<div>\n",
       "<style scoped>\n",
       "    .dataframe tbody tr th:only-of-type {\n",
       "        vertical-align: middle;\n",
       "    }\n",
       "\n",
       "    .dataframe tbody tr th {\n",
       "        vertical-align: top;\n",
       "    }\n",
       "\n",
       "    .dataframe thead th {\n",
       "        text-align: right;\n",
       "    }\n",
       "</style>\n",
       "<table border=\"1\" class=\"dataframe\">\n",
       "  <thead>\n",
       "    <tr style=\"text-align: right;\">\n",
       "      <th></th>\n",
       "      <th>sepal_length</th>\n",
       "      <th>sepal_width</th>\n",
       "      <th>petal_length</th>\n",
       "      <th>petal_width</th>\n",
       "    </tr>\n",
       "  </thead>\n",
       "  <tbody>\n",
       "    <tr>\n",
       "      <th>58</th>\n",
       "      <td>6.6</td>\n",
       "      <td>2.9</td>\n",
       "      <td>4.6</td>\n",
       "      <td>1.3</td>\n",
       "    </tr>\n",
       "    <tr>\n",
       "      <th>97</th>\n",
       "      <td>6.2</td>\n",
       "      <td>2.9</td>\n",
       "      <td>4.3</td>\n",
       "      <td>1.3</td>\n",
       "    </tr>\n",
       "    <tr>\n",
       "      <th>129</th>\n",
       "      <td>7.2</td>\n",
       "      <td>3.0</td>\n",
       "      <td>5.8</td>\n",
       "      <td>1.6</td>\n",
       "    </tr>\n",
       "    <tr>\n",
       "      <th>114</th>\n",
       "      <td>5.8</td>\n",
       "      <td>2.8</td>\n",
       "      <td>5.1</td>\n",
       "      <td>2.4</td>\n",
       "    </tr>\n",
       "    <tr>\n",
       "      <th>146</th>\n",
       "      <td>6.3</td>\n",
       "      <td>2.5</td>\n",
       "      <td>5.0</td>\n",
       "      <td>1.9</td>\n",
       "    </tr>\n",
       "    <tr>\n",
       "      <th>...</th>\n",
       "      <td>...</td>\n",
       "      <td>...</td>\n",
       "      <td>...</td>\n",
       "      <td>...</td>\n",
       "    </tr>\n",
       "    <tr>\n",
       "      <th>113</th>\n",
       "      <td>5.7</td>\n",
       "      <td>2.5</td>\n",
       "      <td>5.0</td>\n",
       "      <td>2.0</td>\n",
       "    </tr>\n",
       "    <tr>\n",
       "      <th>64</th>\n",
       "      <td>5.6</td>\n",
       "      <td>2.9</td>\n",
       "      <td>3.6</td>\n",
       "      <td>1.3</td>\n",
       "    </tr>\n",
       "    <tr>\n",
       "      <th>15</th>\n",
       "      <td>5.7</td>\n",
       "      <td>4.4</td>\n",
       "      <td>1.5</td>\n",
       "      <td>0.4</td>\n",
       "    </tr>\n",
       "    <tr>\n",
       "      <th>125</th>\n",
       "      <td>7.2</td>\n",
       "      <td>3.2</td>\n",
       "      <td>6.0</td>\n",
       "      <td>1.8</td>\n",
       "    </tr>\n",
       "    <tr>\n",
       "      <th>9</th>\n",
       "      <td>4.9</td>\n",
       "      <td>3.1</td>\n",
       "      <td>1.5</td>\n",
       "      <td>0.1</td>\n",
       "    </tr>\n",
       "  </tbody>\n",
       "</table>\n",
       "<p>120 rows × 4 columns</p>\n",
       "</div>"
      ],
      "text/plain": [
       "     sepal_length  sepal_width  petal_length  petal_width\n",
       "58            6.6          2.9           4.6          1.3\n",
       "97            6.2          2.9           4.3          1.3\n",
       "129           7.2          3.0           5.8          1.6\n",
       "114           5.8          2.8           5.1          2.4\n",
       "146           6.3          2.5           5.0          1.9\n",
       "..            ...          ...           ...          ...\n",
       "113           5.7          2.5           5.0          2.0\n",
       "64            5.6          2.9           3.6          1.3\n",
       "15            5.7          4.4           1.5          0.4\n",
       "125           7.2          3.2           6.0          1.8\n",
       "9             4.9          3.1           1.5          0.1\n",
       "\n",
       "[120 rows x 4 columns]"
      ]
     },
     "execution_count": 62,
     "metadata": {},
     "output_type": "execute_result"
    }
   ],
   "source": [
    "X_train"
   ]
  },
  {
   "cell_type": "code",
   "execution_count": 63,
   "id": "f64d2da2",
   "metadata": {},
   "outputs": [],
   "source": [
    "#Train a linear SVM classifier on the training set and predict the labels for the testing set\n",
    "from sklearn.svm import SVC"
   ]
  },
  {
   "cell_type": "code",
   "execution_count": 64,
   "id": "d99bdffc",
   "metadata": {},
   "outputs": [],
   "source": [
    "svc = SVC(kernel = 'linear')"
   ]
  },
  {
   "cell_type": "code",
   "execution_count": 65,
   "id": "aab61d7e",
   "metadata": {},
   "outputs": [
    {
     "data": {
      "text/html": [
       "<style>#sk-container-id-3 {color: black;}#sk-container-id-3 pre{padding: 0;}#sk-container-id-3 div.sk-toggleable {background-color: white;}#sk-container-id-3 label.sk-toggleable__label {cursor: pointer;display: block;width: 100%;margin-bottom: 0;padding: 0.3em;box-sizing: border-box;text-align: center;}#sk-container-id-3 label.sk-toggleable__label-arrow:before {content: \"▸\";float: left;margin-right: 0.25em;color: #696969;}#sk-container-id-3 label.sk-toggleable__label-arrow:hover:before {color: black;}#sk-container-id-3 div.sk-estimator:hover label.sk-toggleable__label-arrow:before {color: black;}#sk-container-id-3 div.sk-toggleable__content {max-height: 0;max-width: 0;overflow: hidden;text-align: left;background-color: #f0f8ff;}#sk-container-id-3 div.sk-toggleable__content pre {margin: 0.2em;color: black;border-radius: 0.25em;background-color: #f0f8ff;}#sk-container-id-3 input.sk-toggleable__control:checked~div.sk-toggleable__content {max-height: 200px;max-width: 100%;overflow: auto;}#sk-container-id-3 input.sk-toggleable__control:checked~label.sk-toggleable__label-arrow:before {content: \"▾\";}#sk-container-id-3 div.sk-estimator input.sk-toggleable__control:checked~label.sk-toggleable__label {background-color: #d4ebff;}#sk-container-id-3 div.sk-label input.sk-toggleable__control:checked~label.sk-toggleable__label {background-color: #d4ebff;}#sk-container-id-3 input.sk-hidden--visually {border: 0;clip: rect(1px 1px 1px 1px);clip: rect(1px, 1px, 1px, 1px);height: 1px;margin: -1px;overflow: hidden;padding: 0;position: absolute;width: 1px;}#sk-container-id-3 div.sk-estimator {font-family: monospace;background-color: #f0f8ff;border: 1px dotted black;border-radius: 0.25em;box-sizing: border-box;margin-bottom: 0.5em;}#sk-container-id-3 div.sk-estimator:hover {background-color: #d4ebff;}#sk-container-id-3 div.sk-parallel-item::after {content: \"\";width: 100%;border-bottom: 1px solid gray;flex-grow: 1;}#sk-container-id-3 div.sk-label:hover label.sk-toggleable__label {background-color: #d4ebff;}#sk-container-id-3 div.sk-serial::before {content: \"\";position: absolute;border-left: 1px solid gray;box-sizing: border-box;top: 0;bottom: 0;left: 50%;z-index: 0;}#sk-container-id-3 div.sk-serial {display: flex;flex-direction: column;align-items: center;background-color: white;padding-right: 0.2em;padding-left: 0.2em;position: relative;}#sk-container-id-3 div.sk-item {position: relative;z-index: 1;}#sk-container-id-3 div.sk-parallel {display: flex;align-items: stretch;justify-content: center;background-color: white;position: relative;}#sk-container-id-3 div.sk-item::before, #sk-container-id-3 div.sk-parallel-item::before {content: \"\";position: absolute;border-left: 1px solid gray;box-sizing: border-box;top: 0;bottom: 0;left: 50%;z-index: -1;}#sk-container-id-3 div.sk-parallel-item {display: flex;flex-direction: column;z-index: 1;position: relative;background-color: white;}#sk-container-id-3 div.sk-parallel-item:first-child::after {align-self: flex-end;width: 50%;}#sk-container-id-3 div.sk-parallel-item:last-child::after {align-self: flex-start;width: 50%;}#sk-container-id-3 div.sk-parallel-item:only-child::after {width: 0;}#sk-container-id-3 div.sk-dashed-wrapped {border: 1px dashed gray;margin: 0 0.4em 0.5em 0.4em;box-sizing: border-box;padding-bottom: 0.4em;background-color: white;}#sk-container-id-3 div.sk-label label {font-family: monospace;font-weight: bold;display: inline-block;line-height: 1.2em;}#sk-container-id-3 div.sk-label-container {text-align: center;}#sk-container-id-3 div.sk-container {/* jupyter's `normalize.less` sets `[hidden] { display: none; }` but bootstrap.min.css set `[hidden] { display: none !important; }` so we also need the `!important` here to be able to override the default hidden behavior on the sphinx rendered scikit-learn.org. See: https://github.com/scikit-learn/scikit-learn/issues/21755 */display: inline-block !important;position: relative;}#sk-container-id-3 div.sk-text-repr-fallback {display: none;}</style><div id=\"sk-container-id-3\" class=\"sk-top-container\"><div class=\"sk-text-repr-fallback\"><pre>SVC(kernel=&#x27;linear&#x27;)</pre><b>In a Jupyter environment, please rerun this cell to show the HTML representation or trust the notebook. <br />On GitHub, the HTML representation is unable to render, please try loading this page with nbviewer.org.</b></div><div class=\"sk-container\" hidden><div class=\"sk-item\"><div class=\"sk-estimator sk-toggleable\"><input class=\"sk-toggleable__control sk-hidden--visually\" id=\"sk-estimator-id-3\" type=\"checkbox\" checked><label for=\"sk-estimator-id-3\" class=\"sk-toggleable__label sk-toggleable__label-arrow\">SVC</label><div class=\"sk-toggleable__content\"><pre>SVC(kernel=&#x27;linear&#x27;)</pre></div></div></div></div></div>"
      ],
      "text/plain": [
       "SVC(kernel='linear')"
      ]
     },
     "execution_count": 65,
     "metadata": {},
     "output_type": "execute_result"
    }
   ],
   "source": [
    "svc.fit(X_train,y_train)"
   ]
  },
  {
   "cell_type": "code",
   "execution_count": 66,
   "id": "88dae415",
   "metadata": {},
   "outputs": [
    {
     "data": {
      "text/plain": [
       "array([[-0.04619348,  0.52133922, -1.00307924, -0.4641441 ],\n",
       "       [ 0.04016251,  0.17403771, -0.55692011, -0.24365261],\n",
       "       [ 0.67964699,  0.93177435, -2.05915693, -1.90172639]])"
      ]
     },
     "execution_count": 66,
     "metadata": {},
     "output_type": "execute_result"
    }
   ],
   "source": [
    "svc.coef_"
   ]
  },
  {
   "cell_type": "code",
   "execution_count": 67,
   "id": "f396d181",
   "metadata": {},
   "outputs": [],
   "source": [
    "## Prediction\n",
    "y_pred=svc.predict(X_test)"
   ]
  },
  {
   "cell_type": "code",
   "execution_count": 68,
   "id": "d4bd02c8",
   "metadata": {},
   "outputs": [
    {
     "data": {
      "text/plain": [
       "array(['versicolor', 'virginica', 'setosa', 'versicolor', 'setosa',\n",
       "       'versicolor', 'virginica', 'versicolor', 'setosa', 'versicolor',\n",
       "       'versicolor', 'virginica', 'versicolor', 'setosa', 'setosa',\n",
       "       'virginica', 'versicolor', 'setosa', 'setosa', 'setosa',\n",
       "       'virginica', 'virginica', 'virginica', 'setosa', 'versicolor',\n",
       "       'setosa', 'versicolor', 'versicolor', 'versicolor', 'virginica'],\n",
       "      dtype=object)"
      ]
     },
     "execution_count": 68,
     "metadata": {},
     "output_type": "execute_result"
    }
   ],
   "source": [
    "y_pred"
   ]
  },
  {
   "cell_type": "code",
   "execution_count": 72,
   "id": "60d4819a",
   "metadata": {},
   "outputs": [
    {
     "name": "stdout",
     "output_type": "stream",
     "text": [
      "              precision    recall  f1-score   support\n",
      "\n",
      "      setosa       1.00      1.00      1.00        10\n",
      "  versicolor       1.00      0.92      0.96        13\n",
      "   virginica       0.88      1.00      0.93         7\n",
      "\n",
      "    accuracy                           0.97        30\n",
      "   macro avg       0.96      0.97      0.96        30\n",
      "weighted avg       0.97      0.97      0.97        30\n",
      "\n",
      "[[10  0  0]\n",
      " [ 0 12  1]\n",
      " [ 0  0  7]]\n",
      "0.9666666666666667\n"
     ]
    }
   ],
   "source": [
    "#Compute the accuracy of the model on the testing set\n",
    "print(classification_report(y_test,y_pred))\n",
    "print(confusion_matrix(y_test,y_pred))\n",
    "print(accuracy_score(y_test,y_pred))"
   ]
  },
  {
   "cell_type": "code",
   "execution_count": 73,
   "id": "235ad9f1",
   "metadata": {},
   "outputs": [
    {
     "name": "stdout",
     "output_type": "stream",
     "text": [
      "Accuracy with C=0.01: 0.9333333333333333\n",
      "Accuracy with C=0.1: 0.9666666666666667\n",
      "Accuracy with C=1: 0.9666666666666667\n",
      "Accuracy with C=10: 1.0\n",
      "Accuracy with C=100: 1.0\n"
     ]
    }
   ],
   "source": [
    "#Try different values of the regularisation parameter C and see how it affects the performance of the model.\n",
    "# Experiment with different values of the regularization parameter C\n",
    "C_values = [0.01, 0.1, 1, 10, 100]\n",
    "for C in C_values:\n",
    "    svm_classifier = SVC(kernel='linear', C=C)\n",
    "    svm_classifier.fit(X_train, y_train)\n",
    "    y_pred = svm_classifier.predict(X_test)\n",
    "    accuracy = accuracy_score(y_test, y_pred)\n",
    "    print(f\"Accuracy with C={C}: {accuracy}\")"
   ]
  },
  {
   "cell_type": "markdown",
   "id": "410f981d",
   "metadata": {},
   "source": [
    "# Plot the decision boundaries of the trained model using two of the features"
   ]
  },
  {
   "cell_type": "code",
   "execution_count": 76,
   "id": "fbc5bfcb",
   "metadata": {},
   "outputs": [
    {
     "name": "stdout",
     "output_type": "stream",
     "text": [
      "Accuracy of the SVM model: 0.8\n"
     ]
    },
    {
     "data": {
      "image/png": "[encoded data removed]",
      "text/plain": [
       "<Figure size 640x480 with 1 Axes>"
      ]
     },
     "metadata": {},
     "output_type": "display_data"
    }
   ],
   "source": [
    "from sklearn.preprocessing import LabelEncoder\n",
    "\n",
    "# Extract features\n",
    "X = df[['sepal_length', 'sepal_width']]\n",
    "\n",
    "# Encode the target labels\n",
    "label_encoder = LabelEncoder()\n",
    "y = label_encoder.fit_transform(df['species'])\n",
    "\n",
    "# Split the dataset into a training set and a testing set\n",
    "X_train, X_test, y_train, y_test = train_test_split(X, y, test_size=0.3, random_state=42)\n",
    "\n",
    "# Train a linear SVM classifier\n",
    "svm_classifier = SVC(kernel='linear')\n",
    "\n",
    "# Fit the model to the training data\n",
    "svm_classifier.fit(X_train, y_train)\n",
    "\n",
    "# Predict labels for the testing set\n",
    "y_pred = svm_classifier.predict(X_test)\n",
    "\n",
    "# Compute the accuracy of the model\n",
    "accuracy = accuracy_score(y_test, y_pred)\n",
    "print(\"Accuracy of the SVM model:\", accuracy)\n",
    "\n",
    "# Plot the decision boundaries using two features\n",
    "x_min, x_max = X['sepal_length'].min() - 1, X['sepal_length'].max() + 1\n",
    "y_min, y_max = X['sepal_width'].min() - 1, X['sepal_width'].max() + 1\n",
    "xx, yy = np.meshgrid(np.arange(x_min, x_max, 0.02), np.arange(y_min, y_max, 0.02))\n",
    "Z = svm_classifier.predict(np.c_[xx.ravel(), yy.ravel()])\n",
    "Z = Z.reshape(xx.shape)\n",
    "\n",
    "plt.contourf(xx, yy, Z, alpha=0.8)\n",
    "sns.scatterplot(data=df, x='sepal_length', y='sepal_width', hue=df['species'], palette='viridis', edgecolor='k')\n",
    "plt.xlabel('Sepal Length')\n",
    "plt.ylabel('Sepal Width')\n",
    "plt.title('SVM Decision Boundaries')\n",
    "plt.show()\n"
   ]
  },
  {
   "cell_type": "code",
   "execution_count": null,
   "id": "e5aa21f3",
   "metadata": {},
   "outputs": [],
   "source": []
  },
  {
   "cell_type": "code",
   "execution_count": null,
   "id": "b046c15f",
   "metadata": {},
   "outputs": [],
   "source": []
  },
  {
   "cell_type": "code",
   "execution_count": null,
   "id": "02dce5b3",
   "metadata": {},
   "outputs": [],
   "source": []
  },
  {
   "cell_type": "code",
   "execution_count": null,
   "id": "0787a533",
   "metadata": {},
   "outputs": [],
   "source": []
  },
  {
   "cell_type": "code",
   "execution_count": null,
   "id": "ae667904",
   "metadata": {},
   "outputs": [],
   "source": []
  },
  {
   "cell_type": "code",
   "execution_count": null,
   "id": "45e9a02b",
   "metadata": {},
   "outputs": [],
   "source": []
  },
  {
   "cell_type": "code",
   "execution_count": null,
   "id": "ffb9f238",
   "metadata": {},
   "outputs": [],
   "source": []
  },
  {
   "cell_type": "code",
   "execution_count": null,
   "id": "11e499d6",
   "metadata": {},
   "outputs": [],
   "source": []
  },
  {
   "cell_type": "code",
   "execution_count": null,
   "id": "8ec843da",
   "metadata": {},
   "outputs": [],
   "source": []
  },
  {
   "cell_type": "code",
   "execution_count": null,
   "id": "f55f2532",
   "metadata": {},
   "outputs": [],
   "source": []
  },
  {
   "cell_type": "code",
   "execution_count": null,
   "id": "e41355fd",
   "metadata": {},
   "outputs": [],
   "source": []
  },
  {
   "cell_type": "code",
   "execution_count": null,
   "id": "483a5a0a",
   "metadata": {},
   "outputs": [],
   "source": []
  }
 ],
 "metadata": {
  "kernelspec": {
   "display_name": "Python 3 (ipykernel)",
   "language": "python",
   "name": "python3"
  },
  "language_info": {
   "codemirror_mode": {
    "name": "ipython",
    "version": 3
   },
   "file_extension": ".py",
   "mimetype": "text/x-python",
   "name": "python",
   "nbconvert_exporter": "python",
   "pygments_lexer": "ipython3",
   "version": "3.11.4"
  }
 },
 "nbformat": 4,
 "nbformat_minor": 5
}
